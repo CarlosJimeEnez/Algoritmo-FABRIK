{
 "cells": [
  {
   "cell_type": "markdown",
   "metadata": {},
   "source": [
    "#### Importacion de librerias: "
   ]
  },
  {
   "cell_type": "code",
   "execution_count": 700,
   "metadata": {},
   "outputs": [],
   "source": [
    "import sim \n",
    "import simConst \n",
    "import numpy as np \n",
    "import sympy as sp  "
   ]
  },
  {
   "cell_type": "markdown",
   "metadata": {},
   "source": [
    "#### Establecemos la conexion: "
   ]
  },
  {
   "cell_type": "code",
   "execution_count": 701,
   "metadata": {},
   "outputs": [],
   "source": [
    "def connect(port): \n",
    "    sim.simxFinish(-1) #Desconecta todos los puertos. \n",
    "    clientID = sim.simxStart('127.0.0.1', port, True, True, 2000, 5)\n",
    "    if clientID == 0: \n",
    "        print(\"Conectado a : \", port)\n",
    "    else: \n",
    "        print(\"No se pudo conectar a: \", port)\n",
    "    return clientID "
   ]
  },
  {
   "cell_type": "code",
   "execution_count": 702,
   "metadata": {},
   "outputs": [
    {
     "name": "stdout",
     "output_type": "stream",
     "text": [
      "Conectado a :  1111\n"
     ]
    }
   ],
   "source": [
    "clientID = connect(1111)"
   ]
  },
  {
   "cell_type": "markdown",
   "metadata": {},
   "source": [
    "Handle Joint"
   ]
  },
  {
   "cell_type": "code",
   "execution_count": 703,
   "metadata": {},
   "outputs": [
    {
     "name": "stdout",
     "output_type": "stream",
     "text": [
      "pos base:  0.0\n",
      "Posicion Joint1: -2.2284040451049805, Posicion Joint2: -2.16233229637146\n"
     ]
    }
   ],
   "source": [
    "ret, joint1_handle = sim.simxGetObjectHandle(clientID, \"join1\", sim.simx_opmode_blocking)\n",
    "ret, joint2_handle = sim.simxGetObjectHandle(clientID, \"joint2\", sim.simx_opmode_blocking)\n",
    "ret, joint3_handle = sim.simxGetObjectHandle(clientID, \"joint3\", sim.simx_opmode_blocking)\n",
    "\n",
    "ret, base = sim.simxGetObjectHandle(clientID, \"link1_visible\", sim.simx_opmode_blocking)\n",
    "ret, pos_base = sim.simxGetJointPosition(clientID, base, sim.simx_opmode_blocking)\n",
    "print(\"pos base: \", pos_base)\n",
    "\n",
    "ret, pos_joint0 = sim.simxGetJointPosition(clientID, joint1_handle, sim.simx_opmode_blocking)\n",
    "ret, pos_joint1 = sim.simxGetJointPosition(clientID, joint2_handle, sim.simx_opmode_blocking)\n",
    "ret, pos_joint3 = sim.simxGetJointPosition(clientID, joint3_handle, sim.simx_opmode_blocking)\n",
    "print(f\"Posicion Joint1: {pos_joint0}, Posicion Joint2: {pos_joint1}\")\n"
   ]
  },
  {
   "cell_type": "markdown",
   "metadata": {},
   "source": [
    "### Cinematica directa "
   ]
  },
  {
   "cell_type": "code",
   "execution_count": 704,
   "metadata": {},
   "outputs": [
    {
     "name": "stdout",
     "output_type": "stream",
     "text": [
      "Posicion del extremo final:  (0, [0.3414168655872345, 1.4606560468673706, 1.341104507446289e-07])\n"
     ]
    }
   ],
   "source": [
    "## Longitud de los eslabones: \n",
    "d1 = 0.1\n",
    "d2 = 0.1\n",
    "d3 = 0.1\n",
    "\n",
    "q1 = np.radians(0)\n",
    "q2 = np.radians(0)\n",
    "q3 = np.radians(0)\n",
    "ret = sim.simxSetJointTargetPosition(clientID, joint1_handle, q1, sim.simx_opmode_blocking)\n",
    "ret = sim.simxSetJointTargetPosition(clientID, joint2_handle, q2, sim.simx_opmode_blocking)\n",
    "ret = sim.simxSetJointTargetPosition(clientID, joint3_handle, q3, sim.simx_opmode_blocking)\n",
    "#Cinematica directa:\n",
    "# Si conozco las posiciones de los angulos puedo conocer\n",
    "# la pos final del robot.  \n",
    "# x = d3*np.sin(q0)*np.sin(q1)\n",
    "# y = -d3*np.cos(q0)*np.sin(q1)\n",
    "# z = d1+d2+d3*np.cos(q1)\n",
    "# print(f\"Pos con cinematica en x: {x}, pos en y: {y}, pos en z: {z}\") \n",
    "retrunCode, pos_final_handle = sim.simxGetObjectHandle(clientID, \"pos_final\", sim.simx_opmode_blocking)\n",
    "pos_final = sim.simxGetObjectPosition(clientID, pos_final_handle, -1, sim.simx_opmode_blocking)\n",
    "print(\"Posicion del extremo final: \", pos_final)"
   ]
  },
  {
   "cell_type": "markdown",
   "metadata": {},
   "source": [
    "#### Cinematica inversa FABRIK"
   ]
  },
  {
   "cell_type": "code",
   "execution_count": 705,
   "metadata": {},
   "outputs": [],
   "source": [
    "def pendiente(segments):\n",
    "    print(\"Encontrar los angulos entre los sig puntos: \", segments)\n",
    "    eje_y = []\n",
    "    eje_x = [] \n",
    "    q = []\n",
    "    for i in range(len(segments) - 1): \n",
    "        eje_y.append(segments[i+1][\"y\"] - segments[i][\"y\"])\n",
    "        eje_x.append(segments[i+1][\"x\"] - segments[i][\"x\"])\n",
    "\n",
    "    for y, x in zip(eje_y, eje_x): \n",
    "        if y/x < 0.0:\n",
    "            print(\"La pendiente es negativa\") \n",
    "            q.append(np.arctan2(y,x))\n",
    "        else: \n",
    "            print(\"La pendiente es positiva\") \n",
    "            q.append(np.arctan2(y,x))\n",
    "        print(\"q: \", q)\n",
    "    return q  "
   ]
  },
  {
   "cell_type": "code",
   "execution_count": 706,
   "metadata": {},
   "outputs": [],
   "source": [
    "def producto_punto(segments):\n",
    "    #[p2, p1, p0]\n",
    "    segments.reverse()\n",
    "    eje_y = []\n",
    "    eje_x = []\n",
    "    producto_punto = [] \n",
    "    q = []\n",
    "    for i in range(len(segments) - 1): \n",
    "        eje_y.append(segments[i][\"y\"] - segments[i + 1][\"y\"])\n",
    "        eje_x.append(segments[i][\"x\"] - segments[i + 1][\"x\"])\n",
    "\n",
    "    #Producto punto: \n",
    "    for y, x in zip(eje_y, eje_x): \n",
    "        producto_punto.append(x*x)\n",
    "        print(\"y\", y)\n",
    "        print(\"x\", x)\n",
    "        print(\"Producto punto: \", producto_punto)\n",
    "    \n",
    "    for producto, x, y in zip(producto_punto, eje_x, eje_y): \n",
    "        resultado = np.arccos(\n",
    "            producto/(np.sqrt(x**2 + y**2) * x)\n",
    "        )\n",
    "        q.append(resultado)\n",
    "    print(\"q: \", q)\n",
    "    return q"
   ]
  },
  {
   "cell_type": "code",
   "execution_count": 707,
   "metadata": {},
   "outputs": [],
   "source": [
    "#Fabrik\n",
    "def fabrik(dist_vectores, segments, tgt, base):     \n",
    "    base = base \n",
    "    segments = segments \n",
    "    dist_vectores = dist_vectores\n",
    "    p_prima = [tgt]\n",
    "    \n",
    "    for i in range(len(segments) - 1): \n",
    "        eje_x = segments[i+1][\"x\"] - p_prima[i][\"x\"] \n",
    "        eje_y = segments[i+1][\"y\"] - p_prima[i][\"y\"]\n",
    "        ux = eje_x/(np.sqrt(eje_x**2 + eje_y**2))\n",
    "        uy = eje_y/(np.sqrt(eje_x**2 + eje_y**2))\n",
    "\n",
    "        prima_x = p_prima[i][\"x\"] + dist_vectores[i]*ux\n",
    "        prima_y = p_prima[i][\"y\"] + dist_vectores[i]*uy\n",
    "        prima = {\n",
    "            \"x\": prima_x, \n",
    "            \"y\": prima_y\n",
    "        }\n",
    "        p_prima.append(prima)\n",
    "\n",
    "    #Backward:\n",
    "    # [d1 ,d2]\n",
    "    dist_vectores.reverse()\n",
    "    print(\"p_prima:\", len(p_prima))\n",
    "    p_prima.reverse()\n",
    "    p_2prima = [base] \n",
    "    print(\"Distancia de vectores: \", dist_vectores)\n",
    "\n",
    "    for i in range(len(segments) - 1): \n",
    "        eje_x = p_prima[i+1][\"x\"] - p_2prima[i][\"x\"] \n",
    "        eje_y = p_prima[i+1][\"y\"] - p_2prima[i][\"y\"]\n",
    "        ux = eje_x/(np.sqrt(eje_x**2 + eje_y**2))\n",
    "        uy = eje_y/(np.sqrt(eje_x**2 + eje_y**2))\n",
    "\n",
    "        prima_x = p_2prima[i][\"x\"] + dist_vectores[i]*ux\n",
    "        prima_y = p_2prima[i][\"y\"] + dist_vectores[i]*uy\n",
    "        prima = {\n",
    "            \"x\": prima_x, \n",
    "            \"y\": prima_y\n",
    "        }\n",
    "        p_2prima.append(prima)\n",
    "\n",
    "    \n",
    "    print(\"p_2prima:\", p_2prima)\n",
    "    \n",
    "    return p_2prima   "
   ]
  },
  {
   "cell_type": "code",
   "execution_count": 708,
   "metadata": {},
   "outputs": [],
   "source": [
    "# Condiciones iniciales: \n",
    "p0 = {\n",
    "  \"x\": 0, \n",
    "  \"y\": 0\n",
    "}\n",
    "p1 = {\n",
    "  \"x\": 1, \n",
    "  \"y\": 0\n",
    "}\n",
    "p2 = {\n",
    "  \"x\": 1.5, \n",
    "  \"y\": 0\n",
    "}"
   ]
  },
  {
   "cell_type": "code",
   "execution_count": 709,
   "metadata": {},
   "outputs": [
    {
     "name": "stdout",
     "output_type": "stream",
     "text": [
      "p_prima: 3\n",
      "Distancia de vectores:  [1, 0.5]\n",
      "p_2prima: [{'x': 0, 'y': 0}, {'x': 0.9477390768725197, 'y': 0.31904645769671897}, {'x': 0.5162176158810194, 'y': 0.5716117536179146}]\n",
      "Segments news:  [{'x': 0, 'y': 0}, {'x': 0.9477390768725197, 'y': 0.31904645769671897}, {'x': 0.5162176158810194, 'y': 0.5716117536179146}]\n",
      "p_prima: 3\n",
      "Distancia de vectores:  [1, 0.5]\n",
      "p_2prima: [{'x': 0, 'y': 0}, {'x': 0.9170569541053322, 'y': 0.39875624500069046}, {'x': 0.4627759640576735, 'y': 0.6076312843934315}]\n",
      "Segments news:  [{'x': 0, 'y': 0}, {'x': 0.9170569541053322, 'y': 0.39875624500069046}, {'x': 0.4627759640576735, 'y': 0.6076312843934315}]\n"
     ]
    }
   ],
   "source": [
    "#main Fabrik\n",
    "retrunCode, target_handle = sim.simxGetObjectHandle(clientID, \"target\", sim.simx_opmode_blocking)\n",
    "returnCode, pos_target = sim.simxGetObjectPosition(clientID, target_handle, -1, sim.simx_opmode_blocking)\n",
    "d1 = 1\n",
    "d2 = 0.5\n",
    "tgt = {\n",
    "  \"x\": pos_target[0], \n",
    "  \"y\": pos_target[1], \n",
    "}\n",
    "\n",
    "dist_vectores = [d2, d1]\n",
    "segments = [p2, p1, p0] \n",
    "base = segments[len(segments) - 1]\n",
    "\n",
    "for i in range(2): \n",
    "  p_2prima = fabrik(dist_vectores, segments, tgt, base)\n",
    "  segments = p_2prima \n",
    "  dist_vectores = [d2, d1]\n",
    "  print(\"Segments news: \", segments)\n",
    "  "
   ]
  },
  {
   "cell_type": "code",
   "execution_count": 710,
   "metadata": {},
   "outputs": [],
   "source": [
    "## Calculo de los angulos entro los puntos dados por FABRIK: \n",
    "# def angulos_fabrik(p_2prima): \n",
    "#     y = float(p_2prima[1][\"y\"])\n",
    "#     x = float(p_2prima[1][\"x\"])\n",
    "\n",
    "#     q = np.arcsin(y)\n",
    "#     print(\"Valor de q1: \", q)\n",
    "#     eje_x = d1*np.cos(q)\n",
    "#     eje_y = d1*np.sin(q)\n",
    "#     print(\"cinematica directa eslabon 1 eje_x: \", eje_x)\n",
    "#     print(f\"cinematica directa eslabon 1: eje_y {eje_y} \\n\")\n",
    "#     if x < 0:  \n",
    "#         print(\"El punto x es negativo: \")\n",
    "#         eje_x = d1*np.cos(np.pi - q)\n",
    "#         eje_y = d1*np.sin(np.pi - q)\n",
    "#         q = np.pi - q\n",
    "#         print(\"cinematica directa eslabon 1 eje_x: \", eje_x)\n",
    "#         print(f\"cinematica directa eslabon 1: eje_y {eje_y} \\n\")\n",
    "\n",
    "# # Eslabon 2\n",
    "#     y = float(p_2prima[2][\"y\"])\n",
    "#     x = float(p_2prima[2][\"x\"])\n",
    "#     q2 = np.arcsin((y - d1*np.sin(q))/d2) - q\n",
    "\n",
    "#     print(\"Valor de q2: \", q2)\n",
    "#     eje_x2 = d2*np.cos(q + q2) + d1*np.cos(q)\n",
    "#     eje_y2 = d2*np.sin(q + q2) + d1*np.sin(q)\n",
    "#     print(\"cinematica directa eslabon 2 eje_x: \", eje_x2)\n",
    "#     print(f\"cinematica directa eslabon 2: eje_y {eje_y2}\")\n",
    "#     if abs(x - eje_x2) > 0.2: \n",
    "#         print(\"El eje x del esl2 es distinto, probando con recorrido for\")\n",
    "#         for q2 in np.arange(0, np.pi, 0.0001): \n",
    "#             if (abs(d2*np.cos(q + q2) + d1*np.cos(q) - x) < 0.001) and (abs(d2*np.sin(q + q2) + d1*np.sin(q) - y) < 0.001): \n",
    "#                 break\n",
    "#             else: \n",
    "#                 print(\"No se encontro un angulo que satisface la situación\")\n",
    "#         print(q2)\n",
    "#         eje_x2 = d2*np.cos(q + q2) + d1*np.cos(q)\n",
    "#         eje_y2 = d2*np.sin(q + q2) + d1*np.sin(q)\n",
    "#         print(\"cinematica directa eslabon 2 eje_x: \", eje_x2)\n",
    "#         print(f\"cinematica directa eslabon 2: eje_y {eje_y2}\")\n",
    "#     print(f\"Segments: {p_2prima} \\n\") \n",
    "\n",
    "#     return [q, q2]"
   ]
  },
  {
   "cell_type": "code",
   "execution_count": 711,
   "metadata": {},
   "outputs": [],
   "source": [
    "## Calculo de los angulos mediante CCD IK\n",
    "def ccd_ik(home_points ,p_2prima): \n",
    "    print(\"Los puntos prima:\", p_2prima, \"Home: \", home_points)\n",
    "    print(\"Target: \", pos_target)\n",
    "    angles = []\n",
    "    \n",
    "    for i in range(len(p_2prima) - 1): \n",
    "        eje1_x = p_2prima[i+1][\"x\"] - home_points[i][\"x\"]\n",
    "        eje1_y = p_2prima[i+1][\"y\"] - home_points[i][\"y\"]\n",
    "        u1_x = eje1_x/(np.sqrt(eje1_x**2 + eje1_y**2))\n",
    "        u1_y = eje1_y/(np.sqrt(eje1_x**2 + eje1_y**2))\n",
    "\n",
    "        eje2_x = home_points[i+1][\"x\"] - home_points[i][\"x\"]\n",
    "        eje2_y = home_points[i+1][\"y\"] - home_points[i][\"y\"]\n",
    "        u2_x = eje2_x/(np.sqrt(eje2_x**2 + eje2_y**2))\n",
    "        u2_y = eje2_y/(np.sqrt(eje2_x**2 + eje2_y**2))\n",
    "\n",
    "        sign = np.sign(np.cross([u1_x, u1_y], [u2_x, u2_y])) \n",
    "        print(\"Signo del angulo: \", sign)\n",
    "        dot_product = np.dot([u1_x, u1_y], [u2_x, u2_y]) \n",
    "        #El -1 es por cuestiones del simulador que aun no entiendo: \n",
    "        angle = -1* sign * np.arccos(dot_product)\n",
    "        \n",
    "        if i == 0: \n",
    "            x = d1*np.cos(angle)\n",
    "            y = d1*np.sin(angle)\n",
    "            if abs(p_2prima[i+1][\"x\"] - x < 0.1): \n",
    "                home_points[i+1][\"x\"] = x\n",
    "                home_points[i+1][\"y\"] = y\n",
    "                print(\"New home x: \", home_points[i+1][\"x\"])\n",
    "                print(\"New home y: \", home_points[i+1][\"y\"])\n",
    "            else: \n",
    "                print(\"Los puntos no coinciden\")   \n",
    "\n",
    "            #Actualizamos el punto siguiente: \n",
    "            home_points[i+2][\"x\"] = d2*np.cos(angle + 0) + d1*np.cos(angle)\n",
    "            home_points[i+2][\"y\"] = d2*np.sin(angle + 0) + d1*np.sin(angle)\n",
    "            \n",
    "        \n",
    "        angles.append(angle)\n",
    "        \n",
    "    print(\"Angulos calculados: \", angles)\n",
    "    return angles"
   ]
  },
  {
   "cell_type": "code",
   "execution_count": 712,
   "metadata": {},
   "outputs": [
    {
     "name": "stdout",
     "output_type": "stream",
     "text": [
      "Los puntos prima: [{'x': 0, 'y': 0}, {'x': 0.9170569541053322, 'y': 0.39875624500069046}, {'x': 0.4627759640576735, 'y': 0.6076312843934315}] Home:  [{'x': 0, 'y': 0}, {'x': 1, 'y': 0}, {'x': 1.5, 'y': 0}]\n",
      "Target:  [0.4250011146068573, 0.6249998807907104, 0.0]\n",
      "Signo del angulo:  -1.0\n",
      "New home x:  0.9170569541053323\n",
      "New home y:  0.39875624500069023\n",
      "Signo del angulo:  -1.0\n",
      "Angulos calculados:  [0.4101601993196098, 2.3004649022782395]\n"
     ]
    }
   ],
   "source": [
    "#Calculo de los angulos entre los eslabones: \n",
    "#q = producto_punto(p_2prima)\n",
    "#q = pendiente(p_2prima)\n",
    "#q = angulos_fabrik(p_2prima)\n",
    "p0 = {\n",
    "  \"x\": 0, \n",
    "  \"y\": 0\n",
    "}\n",
    "p1 = {\n",
    "  \"x\": 1, \n",
    "  \"y\": 0\n",
    "}\n",
    "p2 = {\n",
    "  \"x\": 1.5, \n",
    "  \"y\": 0\n",
    "}\n",
    "home_points = [p0, p1, p2]\n",
    "q = ccd_ik(home_points ,p_2prima)\n",
    "\n",
    "#Movimiento de los motores:  \n",
    "ret = sim.simxSetJointTargetPosition(clientID, joint1_handle, q[0], sim.simx_opmode_blocking)\n",
    "ret = sim.simxSetJointTargetPosition(clientID, joint2_handle, q[1], sim.simx_opmode_blocking)"
   ]
  },
  {
   "cell_type": "code",
   "execution_count": 713,
   "metadata": {},
   "outputs": [
    {
     "name": "stdout",
     "output_type": "stream",
     "text": [
      "Posicion del extremo final:  [-0.1104767844080925, 0.5235056281089783, 2.4959444999694824e-07]\n",
      "Target: [x,y,z]  {'x': 0.4250011146068573, 'y': 0.6249998807907104}\n",
      "Eslabon1:  [-1.1100025177001953, 0.6086433529853821, 2.5547702312469482]\n",
      "Segmentos encontrados por Fabrik: \n",
      "Ultimo segmento:  {'x': 0, 'y': 0}\n",
      "Segments:  [{'x': 0, 'y': 0}, {'x': 0.9170569541053322, 'y': 0.39875624500069046}, {'x': 0.4627759640576735, 'y': 0.6076312843934315}]\n",
      "Pos eslabon 1:  [0.9701792597770691, 0.2424766719341278, 0.0]\n"
     ]
    }
   ],
   "source": [
    "retrunCode, pos_final_handle = sim.simxGetObjectHandle(clientID, \"pos_final\", sim.simx_opmode_blocking)\n",
    "retCode, pos_final = sim.simxGetObjectPosition(clientID, pos_final_handle, -1, sim.simx_opmode_blocking)\n",
    "retrunCode, pos_1_handle = sim.simxGetObjectHandle(clientID, \"pos_1\", sim.simx_opmode_blocking)\n",
    "retCode, pos1 = sim.simxGetObjectPosition(clientID, pos_1_handle, -1, sim.simx_opmode_blocking)\n",
    "\n",
    "etrunCode, eslabon1_handle = sim.simxGetObjectHandle(clientID, \"eslabon1\", sim.simx_opmode_blocking)\n",
    "retCode, pos_eslabon1 = sim.simxGetObjectPosition(clientID, eslabon1_handle, -1, sim.simx_opmode_blocking)\n",
    "print(\"Posicion del extremo final: \", pos_final)\n",
    "print(\"Target: [x,y,z] \", tgt)\n",
    "print(\"Eslabon1: \", pos_eslabon1)\n",
    "print(\"Segmentos encontrados por Fabrik: \")\n",
    "print(\"Ultimo segmento: \", p_2prima[0])\n",
    "print(\"Segments: \", p_2prima)\n",
    "print(\"Pos eslabon 1: \", pos1)"
   ]
  }
 ],
 "metadata": {
  "interpreter": {
   "hash": "4d2bd6a1f6d8103129cee876225a379eb0f540fa126fa830572045118a28eb49"
  },
  "kernelspec": {
   "display_name": "Python 3.10.4 64-bit",
   "language": "python",
   "name": "python3"
  },
  "language_info": {
   "codemirror_mode": {
    "name": "ipython",
    "version": 3
   },
   "file_extension": ".py",
   "mimetype": "text/x-python",
   "name": "python",
   "nbconvert_exporter": "python",
   "pygments_lexer": "ipython3",
   "version": "3.10.4"
  },
  "orig_nbformat": 4
 },
 "nbformat": 4,
 "nbformat_minor": 2
}
