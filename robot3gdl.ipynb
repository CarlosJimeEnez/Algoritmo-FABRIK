{
 "cells": [
  {
   "cell_type": "code",
   "execution_count": 1072,
   "metadata": {},
   "outputs": [],
   "source": [
    "import sim \n",
    "import simConst \n",
    "import numpy as np \n",
    "import sympy as sp  "
   ]
  },
  {
   "cell_type": "code",
   "execution_count": 1073,
   "metadata": {},
   "outputs": [
    {
     "name": "stdout",
     "output_type": "stream",
     "text": [
      "Conectado a :  1111\n"
     ]
    }
   ],
   "source": [
    "def connect(port): \n",
    "    sim.simxFinish(-1) #Desconecta todos los puertos. \n",
    "    clientID = sim.simxStart('127.0.0.1', port, True, True, 2000, 5)\n",
    "    if clientID == 0: \n",
    "        print(\"Conectado a : \", port)\n",
    "    else: \n",
    "        print(\"No se pudo conectar a: \", port)\n",
    "    return clientID \n",
    "clientID = connect(1111)"
   ]
  },
  {
   "cell_type": "code",
   "execution_count": 1074,
   "metadata": {},
   "outputs": [
    {
     "name": "stdout",
     "output_type": "stream",
     "text": [
      "Posicion Joint1: 0.7853958606719971, Posicion Joint2: -0.07783675193786621\n"
     ]
    }
   ],
   "source": [
    "ret, joint1_handle = sim.simxGetObjectHandle(clientID, \"joint1\", sim.simx_opmode_blocking)\n",
    "ret, joint2_handle = sim.simxGetObjectHandle(clientID, \"joint2\", sim.simx_opmode_blocking)\n",
    "ret, joint3_handle = sim.simxGetObjectHandle(clientID, \"joint3\", sim.simx_opmode_blocking)\n",
    "ret, pos_joint0 = sim.simxGetJointPosition(clientID, joint1_handle, sim.simx_opmode_blocking)\n",
    "ret, pos_joint1 = sim.simxGetJointPosition(clientID, joint2_handle, sim.simx_opmode_blocking)\n",
    "ret, pos_joint3 = sim.simxGetJointPosition(clientID, joint3_handle, sim.simx_opmode_blocking)\n",
    "print(f\"Posicion Joint1: {pos_joint0}, Posicion Joint2: {pos_joint1}\")"
   ]
  },
  {
   "cell_type": "code",
   "execution_count": 1075,
   "metadata": {},
   "outputs": [
    {
     "name": "stdout",
     "output_type": "stream",
     "text": [
      "Posicion del extremo final:  (0, [-5.885871360078454e-05, 1.1768133845180273e-07, 0.3149998188018799])\n"
     ]
    }
   ],
   "source": [
    "## Longitud de los eslabones: \n",
    "d1 = 0.1\n",
    "d2 = 0.1\n",
    "d3 = 0.1\n",
    "\n",
    "q1 = np.radians(0)\n",
    "q2 = np.radians(0)\n",
    "q3 = np.radians(0)\n",
    "ret = sim.simxSetJointTargetPosition(clientID, joint1_handle, q1, sim.simx_opmode_blocking)\n",
    "ret = sim.simxSetJointTargetPosition(clientID, joint2_handle, q2, sim.simx_opmode_blocking)\n",
    "ret = sim.simxSetJointTargetPosition(clientID, joint3_handle, q3, sim.simx_opmode_blocking)\n",
    "#Cinematica directa:\n",
    "# Si conozco las posiciones de los angulos puedo conocer\n",
    "# la pos final del robot.  \n",
    "# x = d3*np.sin(q0)*np.sin(q1)\n",
    "# y = -d3*np.cos(q0)*np.sin(q1)\n",
    "# z = d1+d2+d3*np.cos(q1)\n",
    "# print(f\"Pos con cinematica en x: {x}, pos en y: {y}, pos en z: {z}\") \n",
    "retrunCode, pos_final_handle = sim.simxGetObjectHandle(clientID, \"pos_final\", sim.simx_opmode_blocking)\n",
    "pos_final = sim.simxGetObjectPosition(clientID, pos_final_handle, -1, sim.simx_opmode_blocking)\n",
    "print(\"Posicion del extremo final: \", pos_final)"
   ]
  },
  {
   "cell_type": "code",
   "execution_count": 1076,
   "metadata": {},
   "outputs": [],
   "source": [
    "#condiciones iniciales: \n",
    "p0 = {\n",
    "  \"x\": 0, \n",
    "  \"y\": 0,\n",
    "  \"z\": 0.1\n",
    "}\n",
    "p1 = {\n",
    "  \"x\": 0, \n",
    "  \"y\": 0,\n",
    "  \"z\": 0.2\n",
    "}\n",
    "p2 = {\n",
    "  \"x\": 0, \n",
    "  \"y\": 0,\n",
    "  \"z\": 0.31\n",
    "}"
   ]
  },
  {
   "cell_type": "code",
   "execution_count": 1077,
   "metadata": {},
   "outputs": [],
   "source": [
    "#def Fabrik IK: \n",
    "#Fabrik\n",
    "def fabrik(dist_vectores, segments, tgt, base):     \n",
    "    base = base \n",
    "    segments = segments \n",
    "    dist_vectores = dist_vectores\n",
    "    p_prima = [tgt]\n",
    "    \n",
    "    for i in range(len(segments) - 1): \n",
    "        eje_x = segments[i+1][\"x\"] - p_prima[i][\"x\"] \n",
    "        eje_y = segments[i+1][\"y\"] - p_prima[i][\"y\"]\n",
    "        eje_z = segments[i+1][\"z\"] - p_prima[i][\"z\"]\n",
    "        ux = eje_x/(np.sqrt(eje_x**2 + eje_y**2 + eje_z**2))\n",
    "        uy = eje_y/(np.sqrt(eje_x**2 + eje_y**2 + eje_z**2))\n",
    "        uz = eje_z/(np.sqrt(eje_x**2 + eje_y**2 + eje_z**2))\n",
    "        \n",
    "        prima_x = p_prima[i][\"x\"] + dist_vectores[i]*ux\n",
    "        prima_y = p_prima[i][\"y\"] + dist_vectores[i]*uy\n",
    "        prima_z = p_prima[i][\"z\"] + dist_vectores[i]*uz\n",
    "        prima = {\n",
    "            \"x\": prima_x, \n",
    "            \"y\": prima_y, \n",
    "            \"z\": prima_z\n",
    "        }\n",
    "        p_prima.append(prima)\n",
    "\n",
    "    #Backward:\n",
    "    # [d1 ,d2]\n",
    "    dist_vectores.reverse()\n",
    "    print(\"p_prima:\", len(p_prima))\n",
    "    p_prima.reverse()\n",
    "    p_2prima = [base] \n",
    "    print(\"Distancia de vectores: \", dist_vectores)\n",
    "\n",
    "    for i in range(len(segments) - 1): \n",
    "        eje_x = p_prima[i+1][\"x\"] - p_2prima[i][\"x\"] \n",
    "        eje_y = p_prima[i+1][\"y\"] - p_2prima[i][\"y\"]\n",
    "        eje_z = p_prima[i+1][\"z\"] - p_2prima[i][\"z\"]\n",
    "        ux = eje_x/(np.sqrt(eje_x**2 + eje_y**2 + eje_z**2))\n",
    "        uy = eje_y/(np.sqrt(eje_x**2 + eje_y**2 + eje_z**2))\n",
    "        uz = eje_z/(np.sqrt(eje_x**2 + eje_y**2 + eje_z**2))\n",
    "        \n",
    "        prima_x = p_2prima[i][\"x\"] + dist_vectores[i]*ux\n",
    "        prima_y = p_2prima[i][\"y\"] + dist_vectores[i]*uy\n",
    "        prima_z = p_2prima[i][\"z\"] + dist_vectores[i]*uz\n",
    "        prima = {\n",
    "            \"x\": prima_x, \n",
    "            \"y\": prima_y,\n",
    "            \"z\": prima_z\n",
    "        }\n",
    "        p_2prima.append(prima)\n",
    "\n",
    "    print(\"p_2prima:\", p_2prima)\n",
    "    \n",
    "    return p_2prima   "
   ]
  },
  {
   "cell_type": "code",
   "execution_count": 1078,
   "metadata": {},
   "outputs": [
    {
     "name": "stdout",
     "output_type": "stream",
     "text": [
      "Target:  [0.07499998062849045, 0.05000012367963791, 0.2500000596046448]\n",
      "p_prima: 3\n",
      "Distancia de vectores:  [0.1, 0.11]\n",
      "p_2prima: [{'x': 0, 'y': 0, 'z': 0.1}, {'x': -0.005201501596091481, 'y': -0.0034676772039806654, 'z': 0.19980440669607158}, {'x': 0.07597633978829986, 'y': 0.05065103156437506, 'z': 0.25061113291826087}]\n",
      "Segments news:  [{'x': 0, 'y': 0, 'z': 0.1}, {'x': -0.005201501596091481, 'y': -0.0034676772039806654, 'z': 0.19980440669607158}, {'x': 0.07597633978829986, 'y': 0.05065103156437506, 'z': 0.25061113291826087}]\n",
      "p_prima: 3\n",
      "Distancia de vectores:  [0.1, 0.11]\n",
      "p_2prima: [{'x': 0, 'y': 0, 'z': 0.1}, {'x': -0.006210726031965096, 'y': -0.004140495332616622, 'z': 0.1997210267724739}, {'x': 0.07515355220809468, 'y': 0.05010250501240018, 'z': 0.25009513857650123}]\n",
      "Segments news:  [{'x': 0, 'y': 0, 'z': 0.1}, {'x': -0.006210726031965096, 'y': -0.004140495332616622, 'z': 0.1997210267724739}, {'x': 0.07515355220809468, 'y': 0.05010250501240018, 'z': 0.25009513857650123}]\n"
     ]
    }
   ],
   "source": [
    "#Main Fabrik\n",
    "retrunCode, target_handle = sim.simxGetObjectHandle(clientID, \"target\", sim.simx_opmode_blocking)\n",
    "returnCode, pos_target = sim.simxGetObjectPosition(clientID, target_handle, -1, sim.simx_opmode_blocking)\n",
    "d1 = 0.1\n",
    "d2 = 0.11\n",
    "print(\"Target: \", pos_target)\n",
    "tgt = {\n",
    "  \"x\": pos_target[0], \n",
    "  \"y\": pos_target[1],\n",
    "  \"z\": pos_target[2] \n",
    "}\n",
    "#tgt para hacer debug: z= 0.31\n",
    "# tgt = {\n",
    "#   \"x\": 0, \n",
    "#   \"y\": 0,\n",
    "#   \"z\": 0.31 \n",
    "# }\n",
    "\n",
    "dist_vectores = [d2, d1]\n",
    "segments = [p2, p1, p0] \n",
    "base = segments[len(segments) - 1]\n",
    "\n",
    "for i in range(2): \n",
    "  p_2prima = fabrik(dist_vectores, segments, tgt, base)\n",
    "  segments = p_2prima \n",
    "  dist_vectores = [d2, d1]\n",
    "  print(\"Segments news: \", segments)"
   ]
  },
  {
   "cell_type": "code",
   "execution_count": 1079,
   "metadata": {},
   "outputs": [],
   "source": [
    "##angulos FABRIK \n",
    "# def angulos_fabrik(p_2prima): \n",
    "#     print(f\"target: {tgt} \\n\")\n",
    "#     print(\"p_2prima\", p_2prima)\n",
    "#     x = p_2prima[1][\"x\"]\n",
    "#     y = p_2prima[1][\"y\"]\n",
    "#     z = p_2prima[1][\"z\"]\n",
    "#     print(f\"p_prima 2do punto: x:{x}, y:{y}, z: {z}\")\n",
    "    \n",
    "#     #Primer eslabon: \n",
    "#     q1 = np.arctan2(y,x)\n",
    "#     eje_x1 = 0\n",
    "#     eje_y1 = 0\n",
    "#     eje_z1 = d1 \n",
    "\n",
    "#     #Cinematica directa segundo eslabon:\n",
    "#     success = 0 \n",
    "#     for q2 in np.arange(0, np.pi*2, 0.0001): \n",
    "#         if (abs(d1 + d2*np.cos(q2) - z) < 0.001): \n",
    "#             print(\"Se encontro un angulo \")\n",
    "#             success = 1\n",
    "#             break\n",
    "#     if (success == 1): \n",
    "#         print(f\"Se encontro el angulo: {q2}\")\n",
    "#     else: \n",
    "#         print(\"No se encontro un angulo\")    \n",
    "#     eje_x2 = -d2*np.cos(q1)*np.sin(q2) \n",
    "#     eje_y2 = -d2*np.sin(q1)*np.sin(q2)\n",
    "#     eje_z2 = d1 + d2*np.cos(q2)\n",
    "#     print(f\"eje x: {eje_x2}, eje y: {eje_y2}, eje z: {eje_z2} \\n\")\n",
    "\n",
    "#     #Cinematica directa tercer eslabon:\n",
    "#     x = p_2prima[2][\"x\"]\n",
    "#     y = p_2prima[2][\"y\"]\n",
    "#     z = p_2prima[2][\"z\"]\n",
    "#     print(f\"p_prima 3er punto: x:{x}, y:{y}, z: {z}\")\n",
    "#     success = 0  \n",
    "#     for q3 in np.arange(0, np.pi*2, 0.0001): \n",
    "#         if (abs(d1 + d3*np.cos(q2 + q3) + d2*np.cos(q2) - z) < 0.001): \n",
    "#             print(\"Se encontro un angulo \")\n",
    "#             success = 1\n",
    "#             break\n",
    "#     eje_y3 = np.sin(q1)*(d3*np.sin(q2 + q3) + d2*np.sin(q2))\n",
    "#     eje_z3 = d1 + d3*np.cos(q2 + q3) + d2*np.cos(q2)\n",
    "#     print(f\"eje y eslabon3: {eje_y3}, eje z eslabon3: {eje_z3}\")\n",
    "    \n",
    "#     if (success == 1): \n",
    "#         print(f\"Se encontro el angulo: {q2}\")\n",
    "#     else: \n",
    "#         print(\"No se encontro un angulo\")\n",
    "#     print(f\"q1: {q1}, q2: {q2}, q3: {q2}\")\n",
    "#     return [q1, q2, q3]"
   ]
  },
  {
   "cell_type": "code",
   "execution_count": 1080,
   "metadata": {},
   "outputs": [],
   "source": [
    "## Calculo de los angulos mediante CCD IK\n",
    "def ccd_ik(home_points ,p_2prima): \n",
    "    print(f\"target: {tgt} \\n\")\n",
    "    print(\"p_2prima\", p_2prima, \"home points\", home_points)\n",
    "    x = p_2prima[1][\"x\"]\n",
    "    y = p_2prima[1][\"y\"]\n",
    "    z = p_2prima[1][\"z\"]\n",
    "    \n",
    "    #Primer eslabon: \n",
    "    q1 = np.arctan2(y,x)\n",
    "    print(\"q1: \", q1)\n",
    "    if q1 < 0: \n",
    "        q1 = -1*(-np.pi - q1)\n",
    "        print(q1)\n",
    "    angles = [q1]\n",
    "    \n",
    "    for i in range(len(p_2prima) - 1): \n",
    "        #U1 Vector que apunta hacia las p_prima\n",
    "        eje1_x = p_2prima[i+1][\"x\"] - home_points[i][\"x\"]\n",
    "        eje1_y = p_2prima[i+1][\"y\"] - home_points[i][\"y\"]\n",
    "        eje1_z = p_2prima[i+1][\"z\"] - home_points[i][\"z\"]\n",
    "        u1_x = eje1_x/(np.sqrt(eje1_x**2 + eje1_y**2 + eje1_z**2))\n",
    "        u1_y = eje1_y/(np.sqrt(eje1_x**2 + eje1_y**2 + eje1_z**2))\n",
    "        u1_z = eje1_z/(np.sqrt(eje1_x**2 + eje1_y**2 + eje1_z**2))\n",
    "        #U2\n",
    "        eje2_x = home_points[i+1][\"x\"] - home_points[i][\"x\"]\n",
    "        eje2_y = home_points[i+1][\"y\"] - home_points[i][\"y\"]\n",
    "        eje2_z = home_points[i+1][\"z\"] - home_points[i][\"z\"]\n",
    "        #Modulo\n",
    "        u2_x = eje2_x/(np.sqrt(eje2_x**2 + eje2_y**2 + eje2_z**2))\n",
    "        u2_y = eje2_y/(np.sqrt(eje2_x**2 + eje2_y**2 + eje2_z**2))\n",
    "        u2_z = eje2_z/(np.sqrt(eje2_x**2 + eje2_y**2 + eje2_z**2))\n",
    "        u1 = np.array([u1_x, u1_y, u1_z])\n",
    "        u2 = np.array([u2_x, u2_y, u2_z])\n",
    "        #Calculo del signo del angulo: \n",
    "        sign = np.sign(np.cross(u1, u2)) \n",
    "        print(\"Cross product: \", np.cross(u1,u2) ,\"Signo del angulo: \", sign, \"\\n\")\n",
    "        dot_product = np.dot(u1, u2) \n",
    "        print(\"Dot product: \", dot_product)\n",
    "        #El -1 es por cuestiones del simulador que aun no entiendo: \n",
    "        angle = sign * np.arccos(dot_product)\n",
    "        angles.append(angle)\n",
    "\n",
    "        if i == 0:  \n",
    "            home_points[i+1][\"x\"] = p_2prima[i+1][\"x\"]\n",
    "            home_points[i+1][\"y\"] = p_2prima[i+1][\"y\"]\n",
    "            home_points[i+1][\"z\"] = p_2prima[i+1][\"z\"]\n",
    "            print(\"New home x: \", home_points[i+1][\"x\"])\n",
    "            print(\"New home y: \", home_points[i+1][\"y\"])\n",
    "            print(\"New home z: \", home_points[i+1][\"z\"])\n",
    "\n",
    "            #Actualizamos el punto siguiente con CD:\n",
    "            q2 = angles[1][0]\n",
    "            d = d2 + d3\n",
    "            home_points[i+2][\"x\"] = d*np.cos(q1)*np.sin(q2)\n",
    "            home_points[i+2][\"y\"] = d*np.sin(q1)*np.sin(q2)\n",
    "            home_points[i+2][\"z\"] = d1 + d*np.cos(q2)\n",
    "            print(\"Ultimo punto actualizado x: \",home_points[i+2][\"x\"])\n",
    "            print(\"Ultimo punto actualizado y: \",home_points[i+2][\"y\"])\n",
    "            print(\"Ultimo punto actualizado z: \",home_points[i+2][\"z\"])\n",
    "        \n",
    "        \n",
    "    print(\"Angulos calculados: \", angles) \n",
    "    q = [angles[0], angles[1][0], angles[2][0]]\n",
    "    \n",
    "    return q"
   ]
  },
  {
   "cell_type": "code",
   "execution_count": 1081,
   "metadata": {},
   "outputs": [
    {
     "name": "stdout",
     "output_type": "stream",
     "text": [
      "target: {'x': 0.07499998062849045, 'y': 0.05000012367963791, 'z': 0.2500000596046448} \n",
      "\n",
      "p_2prima [{'x': 0, 'y': 0, 'z': 0.1}, {'x': -0.006210726031965096, 'y': -0.004140495332616622, 'z': 0.1997210267724739}, {'x': 0.07515355220809468, 'y': 0.05010250501240018, 'z': 0.25009513857650123}] home points [{'x': 0, 'y': 0, 'z': 0.1}, {'x': 0, 'y': 0, 'z': 0.2}, {'x': 0, 'y': 0, 'z': 0.3}]\n",
      "q1:  -2.553588789175474\n",
      "0.5880038644143193\n",
      "Cross product:  [-0.04140495  0.06210726  0.        ] Signo del angulo:  [-1.  1.  0.] \n",
      "\n",
      "Dot product:  0.9972102677247388\n",
      "New home x:  -0.006210726031965096\n",
      "New home y:  -0.004140495332616622\n",
      "New home z:  0.1997210267724739\n",
      "Ultimo punto actualizado x:  -0.013042524667126663\n",
      "Ultimo punto actualizado y:  -0.008695040198494881\n",
      "Ultimo punto actualizado z:  0.30941415622219515\n",
      "Cross product:  [ 5.10703769e-01 -7.66053561e-01 -2.77555756e-17] Signo del angulo:  [ 1. -1. -1.] \n",
      "\n",
      "Dot product:  0.390312183741432\n",
      "Angulos calculados:  [0.5880038644143193, array([-0.07471319,  0.07471319,  0.        ]), array([ 1.16982568, -1.16982568, -1.16982568])]\n"
     ]
    }
   ],
   "source": [
    "#Calculo de los angulos entre los eslabones: \n",
    "#condiciones iniciales: \n",
    "p0 = {\n",
    "  \"x\": 0, \n",
    "  \"y\": 0,\n",
    "  \"z\": 0.1\n",
    "}\n",
    "p1 = {\n",
    "  \"x\": 0, \n",
    "  \"y\": 0,\n",
    "  \"z\": 0.2\n",
    "}\n",
    "p2 = {\n",
    "  \"x\": 0, \n",
    "  \"y\": 0,\n",
    "  \"z\": 0.3\n",
    "}\n",
    "\n",
    "home_points = [p0, p1, p2]\n",
    "#q = angulos_fabrik(p_2prima)\n",
    "q = ccd_ik(home_points, p_2prima)\n",
    "\n",
    "#Movimiento de los motores:  \n",
    "ret = sim.simxSetJointTargetPosition(clientID, joint1_handle, q[0], sim.simx_opmode_blocking)\n",
    "ret = sim.simxSetJointTargetPosition(clientID, joint2_handle, q[1], sim.simx_opmode_blocking)\n",
    "ret = sim.simxSetJointTargetPosition(clientID, joint3_handle, q[2], sim.simx_opmode_blocking)"
   ]
  },
  {
   "cell_type": "code",
   "execution_count": 1082,
   "metadata": {},
   "outputs": [
    {
     "name": "stdout",
     "output_type": "stream",
     "text": [
      "Posicion del extremo final:  (0, [0.0834176316857338, 0.05553646385669708, 0.24894079566001892])\n",
      "Posicion dummy 2:  (0, [-0.007649794686585665, -0.0050921207293868065, 0.20982614159584045])\n"
     ]
    }
   ],
   "source": [
    "retrunCode, pos_final_handle = sim.simxGetObjectHandle(clientID, \"pos_final\", sim.simx_opmode_blocking)\n",
    "pos_final = sim.simxGetObjectPosition(clientID, pos_final_handle, -1, sim.simx_opmode_blocking)\n",
    "print(\"Posicion del extremo final: \", pos_final)\n",
    "retrunCode, pos_final_handle = sim.simxGetObjectHandle(clientID, \"pos_dummy2\", sim.simx_opmode_blocking)\n",
    "eslabon1_pos = sim.simxGetObjectPosition(clientID, pos_final_handle, -1, sim.simx_opmode_blocking)\n",
    "print(\"Posicion dummy 2: \", eslabon1_pos)"
   ]
  }
 ],
 "metadata": {
  "kernelspec": {
   "display_name": "Python 3.10.4 64-bit",
   "language": "python",
   "name": "python3"
  },
  "language_info": {
   "codemirror_mode": {
    "name": "ipython",
    "version": 3
   },
   "file_extension": ".py",
   "mimetype": "text/x-python",
   "name": "python",
   "nbconvert_exporter": "python",
   "pygments_lexer": "ipython3",
   "version": "3.10.4"
  },
  "orig_nbformat": 4,
  "vscode": {
   "interpreter": {
    "hash": "4d2bd6a1f6d8103129cee876225a379eb0f540fa126fa830572045118a28eb49"
   }
  }
 },
 "nbformat": 4,
 "nbformat_minor": 2
}
