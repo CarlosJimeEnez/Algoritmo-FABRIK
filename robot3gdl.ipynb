{
 "cells": [
  {
   "cell_type": "code",
   "execution_count": 49,
   "metadata": {},
   "outputs": [],
   "source": [
    "import sim \n",
    "import simConst \n",
    "import numpy as np \n",
    "import sympy as sp  "
   ]
  },
  {
   "cell_type": "code",
   "execution_count": 50,
   "metadata": {},
   "outputs": [
    {
     "name": "stdout",
     "output_type": "stream",
     "text": [
      "Conectado a :  1111\n"
     ]
    }
   ],
   "source": [
    "def connect(port): \n",
    "    sim.simxFinish(-1) #Desconecta todos los puertos. \n",
    "    clientID = sim.simxStart('127.0.0.1', port, True, True, 2000, 5)\n",
    "    if clientID == 0: \n",
    "        print(\"Conectado a : \", port)\n",
    "    else: \n",
    "        print(\"No se pudo conectar a: \", port)\n",
    "    return clientID \n",
    "clientID = connect(1111)"
   ]
  },
  {
   "cell_type": "code",
   "execution_count": 51,
   "metadata": {},
   "outputs": [
    {
     "name": "stdout",
     "output_type": "stream",
     "text": [
      "Posicion Joint1: 1.8157739639282227, Posicion Joint2: -0.6396400928497314\n"
     ]
    }
   ],
   "source": [
    "ret, joint1_handle = sim.simxGetObjectHandle(clientID, \"joint1\", sim.simx_opmode_blocking)\n",
    "ret, joint2_handle = sim.simxGetObjectHandle(clientID, \"joint2\", sim.simx_opmode_blocking)\n",
    "ret, joint3_handle = sim.simxGetObjectHandle(clientID, \"joint3\", sim.simx_opmode_blocking)\n",
    "ret, joint4_handle = sim.simxGetObjectHandle(clientID, \"joint4\", sim.simx_opmode_blocking)\n",
    "ret, pos_joint0 = sim.simxGetJointPosition(clientID, joint1_handle, sim.simx_opmode_blocking)\n",
    "ret, pos_joint1 = sim.simxGetJointPosition(clientID, joint2_handle, sim.simx_opmode_blocking)\n",
    "ret, pos_joint3 = sim.simxGetJointPosition(clientID, joint3_handle, sim.simx_opmode_blocking)\n",
    "print(f\"Posicion Joint1: {pos_joint0}, Posicion Joint2: {pos_joint1}\")"
   ]
  },
  {
   "cell_type": "code",
   "execution_count": 52,
   "metadata": {},
   "outputs": [
    {
     "name": "stdout",
     "output_type": "stream",
     "text": [
      "Posicion del extremo final:  (0, [1.619084650883451e-05, 9.681752999313176e-08, 0.31499987840652466])\n"
     ]
    }
   ],
   "source": [
    "## Longitud de los eslabones: \n",
    "d1 = 0.1\n",
    "d2 = 0.1\n",
    "d3 = 0.1\n",
    "d4 = 0.11\n",
    "\n",
    "q1 = np.radians(0)\n",
    "q2 = np.radians(0)\n",
    "q3 = np.radians(0)\n",
    "q4 = np.radians(40)\n",
    "ret = sim.simxSetJointTargetPosition(clientID, joint1_handle, q1, sim.simx_opmode_blocking)\n",
    "ret = sim.simxSetJointTargetPosition(clientID, joint2_handle, q2, sim.simx_opmode_blocking)\n",
    "ret = sim.simxSetJointTargetPosition(clientID, joint3_handle, q3, sim.simx_opmode_blocking)\n",
    "ret = sim.simxSetJointTargetPosition(clientID, joint4_handle, q4, sim.simx_opmode_blocking)\n",
    "\n",
    "#Cinematica directa:\n",
    "# Si conozco las posiciones de los angulos puedo conocer\n",
    "# la pos final del robot.  \n",
    "# x = d3*np.sin(q0)*np.sin(q1)\n",
    "# y = -d3*np.cos(q0)*np.sin(q1)\n",
    "# z = d1+d2+d3*np.cos(q1)\n",
    "# print(f\"Pos con cinematica en x: {x}, pos en y: {y}, pos en z: {z}\") \n",
    "retrunCode, pos_final_handle = sim.simxGetObjectHandle(clientID, \"pos_final\", sim.simx_opmode_blocking)\n",
    "pos_final = sim.simxGetObjectPosition(clientID, pos_final_handle, -1, sim.simx_opmode_blocking)\n",
    "print(\"Posicion del extremo final: \", pos_final)"
   ]
  },
  {
   "cell_type": "code",
   "execution_count": 53,
   "metadata": {},
   "outputs": [],
   "source": [
    "#condiciones iniciales: \n",
    "p0 = {\n",
    "  \"x\": 0, \n",
    "  \"y\": 0,\n",
    "  \"z\": 0.1\n",
    "}\n",
    "p1 = {\n",
    "  \"x\": 0, \n",
    "  \"y\": 0,\n",
    "  \"z\": 0.2\n",
    "}\n",
    "p2 = {\n",
    "  \"x\": 0, \n",
    "  \"y\": 0,\n",
    "  \"z\": 0.31\n",
    "}"
   ]
  },
  {
   "cell_type": "code",
   "execution_count": 54,
   "metadata": {},
   "outputs": [],
   "source": [
    "#def Fabrik IK: \n",
    "#Fabrik\n",
    "def fabrik(dist_vectores, segments, tgt, base):     \n",
    "    base = base \n",
    "    segments = segments \n",
    "    dist_vectores = dist_vectores\n",
    "    p_prima = [tgt]\n",
    "    \n",
    "    for i in range(len(segments) - 1): \n",
    "        eje_x = segments[i+1][\"x\"] - p_prima[i][\"x\"] \n",
    "        eje_y = segments[i+1][\"y\"] - p_prima[i][\"y\"]\n",
    "        eje_z = segments[i+1][\"z\"] - p_prima[i][\"z\"]\n",
    "        ux = eje_x/(np.sqrt(eje_x**2 + eje_y**2 + eje_z**2))\n",
    "        uy = eje_y/(np.sqrt(eje_x**2 + eje_y**2 + eje_z**2))\n",
    "        uz = eje_z/(np.sqrt(eje_x**2 + eje_y**2 + eje_z**2))\n",
    "        \n",
    "        prima_x = p_prima[i][\"x\"] + dist_vectores[i]*ux\n",
    "        prima_y = p_prima[i][\"y\"] + dist_vectores[i]*uy\n",
    "        prima_z = p_prima[i][\"z\"] + dist_vectores[i]*uz\n",
    "        prima = {\n",
    "            \"x\": prima_x, \n",
    "            \"y\": prima_y, \n",
    "            \"z\": prima_z\n",
    "        }\n",
    "        p_prima.append(prima)\n",
    "\n",
    "    #Backward:\n",
    "    # [d1 ,d2]\n",
    "    dist_vectores.reverse()\n",
    "    print(\"p_prima:\", len(p_prima))\n",
    "    p_prima.reverse()\n",
    "    p_2prima = [base] \n",
    "    print(\"Distancia de vectores: \", dist_vectores)\n",
    "\n",
    "    for i in range(len(segments) - 1): \n",
    "        eje_x = p_prima[i+1][\"x\"] - p_2prima[i][\"x\"] \n",
    "        eje_y = p_prima[i+1][\"y\"] - p_2prima[i][\"y\"]\n",
    "        eje_z = p_prima[i+1][\"z\"] - p_2prima[i][\"z\"]\n",
    "        ux = eje_x/(np.sqrt(eje_x**2 + eje_y**2 + eje_z**2))\n",
    "        uy = eje_y/(np.sqrt(eje_x**2 + eje_y**2 + eje_z**2))\n",
    "        uz = eje_z/(np.sqrt(eje_x**2 + eje_y**2 + eje_z**2))\n",
    "        \n",
    "        prima_x = p_2prima[i][\"x\"] + dist_vectores[i]*ux\n",
    "        prima_y = p_2prima[i][\"y\"] + dist_vectores[i]*uy\n",
    "        prima_z = p_2prima[i][\"z\"] + dist_vectores[i]*uz\n",
    "        prima = {\n",
    "            \"x\": prima_x, \n",
    "            \"y\": prima_y,\n",
    "            \"z\": prima_z\n",
    "        }\n",
    "        p_2prima.append(prima)\n",
    "\n",
    "    print(\"p_2prima:\", p_2prima)\n",
    "    \n",
    "    return p_2prima   "
   ]
  },
  {
   "cell_type": "code",
   "execution_count": 55,
   "metadata": {},
   "outputs": [
    {
     "name": "stdout",
     "output_type": "stream",
     "text": [
      "Target:  [0.09999997913837433, 0.07500001043081284, 0.04999999701976776]\n",
      "p_prima: 3\n",
      "Distancia de vectores:  [0.1, 0.11]\n",
      "p_2prima: [{'x': 0, 'y': 0, 'z': 0.1}, {'x': 0.06762066900359075, 'y': 0.05071551938616029, 'z': 0.15343576720604676}, {'x': 0.09968731032098699, 'y': 0.07476550873623757, 'z': 0.050998818174544325}]\n",
      "Segments news:  [{'x': 0, 'y': 0, 'z': 0.1}, {'x': 0.06762066900359075, 'y': 0.05071551938616029, 'z': 0.15343576720604676}, {'x': 0.09968731032098699, 'y': 0.07476550873623757, 'z': 0.050998818174544325}]\n",
      "p_prima: 3\n",
      "Distancia de vectores:  [0.1, 0.11]\n",
      "p_2prima: [{'x': 0, 'y': 0, 'z': 0.1}, {'x': 0.06806798577031511, 'y': 0.051051007077850534, 'z': 0.15254087922284357}, {'x': 0.0999896399313546, 'y': 0.07499225602285188, 'z': 0.05003319856145866}]\n",
      "Segments news:  [{'x': 0, 'y': 0, 'z': 0.1}, {'x': 0.06806798577031511, 'y': 0.051051007077850534, 'z': 0.15254087922284357}, {'x': 0.0999896399313546, 'y': 0.07499225602285188, 'z': 0.05003319856145866}]\n"
     ]
    }
   ],
   "source": [
    "#Main Fabrik\n",
    "retrunCode, target_handle = sim.simxGetObjectHandle(clientID, \"target\", sim.simx_opmode_blocking)\n",
    "returnCode, pos_target = sim.simxGetObjectPosition(clientID, target_handle, -1, sim.simx_opmode_blocking)\n",
    "d1 = 0.1\n",
    "d2 = 0.11\n",
    "print(\"Target: \", pos_target)\n",
    "tgt = {\n",
    "  \"x\": pos_target[0], \n",
    "  \"y\": pos_target[1],\n",
    "  \"z\": pos_target[2] \n",
    "}\n",
    "#tgt para hacer debug: z= 0.31\n",
    "# tgt = {\n",
    "#   \"x\": 0, \n",
    "#   \"y\": 0,\n",
    "#   \"z\": 0.31 \n",
    "# }\n",
    "\n",
    "dist_vectores = [d2, d1]\n",
    "segments = [p2, p1, p0] \n",
    "base = segments[len(segments) - 1]\n",
    "\n",
    "for i in range(2): \n",
    "  p_2prima = fabrik(dist_vectores, segments, tgt, base)\n",
    "  segments = p_2prima \n",
    "  dist_vectores = [d2, d1]\n",
    "  print(\"Segments news: \", segments)"
   ]
  },
  {
   "cell_type": "code",
   "execution_count": 56,
   "metadata": {},
   "outputs": [],
   "source": [
    "##angulos FABRIK \n",
    "# def angulos_fabrik(p_2prima): \n",
    "#     print(f\"target: {tgt} \\n\")\n",
    "#     print(\"p_2prima\", p_2prima)\n",
    "#     x = p_2prima[1][\"x\"]\n",
    "#     y = p_2prima[1][\"y\"]\n",
    "#     z = p_2prima[1][\"z\"]\n",
    "#     print(f\"p_prima 2do punto: x:{x}, y:{y}, z: {z}\")\n",
    "    \n",
    "#     #Primer eslabon: \n",
    "#     q1 = np.arctan2(y,x)\n",
    "#     eje_x1 = 0\n",
    "#     eje_y1 = 0\n",
    "#     eje_z1 = d1 \n",
    "\n",
    "#     #Cinematica directa segundo eslabon:\n",
    "#     success = 0 \n",
    "#     for q2 in np.arange(0, np.pi*2, 0.0001): \n",
    "#         if (abs(d1 + d2*np.cos(q2) - z) < 0.001): \n",
    "#             print(\"Se encontro un angulo \")\n",
    "#             success = 1\n",
    "#             break\n",
    "#     if (success == 1): \n",
    "#         print(f\"Se encontro el angulo: {q2}\")\n",
    "#     else: \n",
    "#         print(\"No se encontro un angulo\")    \n",
    "#     eje_x2 = -d2*np.cos(q1)*np.sin(q2) \n",
    "#     eje_y2 = -d2*np.sin(q1)*np.sin(q2)\n",
    "#     eje_z2 = d1 + d2*np.cos(q2)\n",
    "#     print(f\"eje x: {eje_x2}, eje y: {eje_y2}, eje z: {eje_z2} \\n\")\n",
    "\n",
    "#     #Cinematica directa tercer eslabon:\n",
    "#     x = p_2prima[2][\"x\"]\n",
    "#     y = p_2prima[2][\"y\"]\n",
    "#     z = p_2prima[2][\"z\"]\n",
    "#     print(f\"p_prima 3er punto: x:{x}, y:{y}, z: {z}\")\n",
    "#     success = 0  \n",
    "#     for q3 in np.arange(0, np.pi*2, 0.0001): \n",
    "#         if (abs(d1 + d3*np.cos(q2 + q3) + d2*np.cos(q2) - z) < 0.001): \n",
    "#             print(\"Se encontro un angulo \")\n",
    "#             success = 1\n",
    "#             break\n",
    "#     eje_y3 = np.sin(q1)*(d3*np.sin(q2 + q3) + d2*np.sin(q2))\n",
    "#     eje_z3 = d1 + d3*np.cos(q2 + q3) + d2*np.cos(q2)\n",
    "#     print(f\"eje y eslabon3: {eje_y3}, eje z eslabon3: {eje_z3}\")\n",
    "    \n",
    "#     if (success == 1): \n",
    "#         print(f\"Se encontro el angulo: {q2}\")\n",
    "#     else: \n",
    "#         print(\"No se encontro un angulo\")\n",
    "#     print(f\"q1: {q1}, q2: {q2}, q3: {q2}\")\n",
    "#     return [q1, q2, q3]"
   ]
  },
  {
   "cell_type": "code",
   "execution_count": 57,
   "metadata": {},
   "outputs": [],
   "source": [
    "## Calculo de los angulos mediante CCD IK\n",
    "def ccd_ik(home_points ,p_2prima): \n",
    "    print(f\"target: {tgt} \\n\")\n",
    "    print(\"p_2prima\", p_2prima, \"home points\", home_points)\n",
    "    x = p_2prima[1][\"x\"]\n",
    "    y = p_2prima[1][\"y\"]\n",
    "    z = p_2prima[1][\"z\"]\n",
    "    \n",
    "    #Primer eslabon: \n",
    "    q1 = np.arctan2(y,x)\n",
    "    print(\"q1: \", q1)\n",
    "    if q1 < 0: \n",
    "        q1 = -1*(-np.pi - q1)\n",
    "        print(q1)\n",
    "    angles = [q1]\n",
    "    \n",
    "    for i in range(len(p_2prima) - 1): \n",
    "        #U1 Vector que apunta hacia las p_prima\n",
    "        eje1_x = p_2prima[i+1][\"x\"] - home_points[i][\"x\"]\n",
    "        eje1_y = p_2prima[i+1][\"y\"] - home_points[i][\"y\"]\n",
    "        eje1_z = p_2prima[i+1][\"z\"] - home_points[i][\"z\"]\n",
    "        u1_x = eje1_x/(np.sqrt(eje1_x**2 + eje1_y**2 + eje1_z**2))\n",
    "        u1_y = eje1_y/(np.sqrt(eje1_x**2 + eje1_y**2 + eje1_z**2))\n",
    "        u1_z = eje1_z/(np.sqrt(eje1_x**2 + eje1_y**2 + eje1_z**2))\n",
    "        \n",
    "        #U2\n",
    "        eje2_x = home_points[i+1][\"x\"] - home_points[i][\"x\"]\n",
    "        eje2_y = home_points[i+1][\"y\"] - home_points[i][\"y\"]\n",
    "        eje2_z = home_points[i+1][\"z\"] - home_points[i][\"z\"]\n",
    "        \n",
    "        #Modulo\n",
    "        u2_x = eje2_x/(np.sqrt(eje2_x**2 + eje2_y**2 + eje2_z**2))\n",
    "        u2_y = eje2_y/(np.sqrt(eje2_x**2 + eje2_y**2 + eje2_z**2))\n",
    "        u2_z = eje2_z/(np.sqrt(eje2_x**2 + eje2_y**2 + eje2_z**2))\n",
    "        u1 = np.array([u1_x, u1_y, u1_z])\n",
    "        u2 = np.array([u2_x, u2_y, u2_z])\n",
    "        \n",
    "        #Calculo del signo del angulo: \n",
    "        sign = np.sign(np.cross(u1, u2)) \n",
    "        print(\"Cross product: \", np.cross(u1,u2) ,\"Signo del angulo: \", sign, \"\\n\")\n",
    "        dot_product = np.dot(u1, u2) \n",
    "        print(\"Dot product: \", dot_product)\n",
    "        #El -1 es por cuestiones del simulador que aun no entiendo: \n",
    "        angle = sign * np.arccos(dot_product)\n",
    "        angles.append(angle)\n",
    "\n",
    "        if i == 0:  \n",
    "            home_points[i+1][\"x\"] = p_2prima[i+1][\"x\"]\n",
    "            home_points[i+1][\"y\"] = p_2prima[i+1][\"y\"]\n",
    "            home_points[i+1][\"z\"] = p_2prima[i+1][\"z\"]\n",
    "\n",
    "            #Actualizamos el punto siguiente con CD:\n",
    "            q2 = angles[1][0]\n",
    "            d = d2 + d3\n",
    "            home_points[i+2][\"x\"] = d*np.cos(q1)*np.sin(q2)\n",
    "            home_points[i+2][\"y\"] = d*np.sin(q1)*np.sin(q2)\n",
    "            home_points[i+2][\"z\"] = d1 + d*np.cos(q2)\n",
    "            \n",
    "        \n",
    "    print(\"Angulos calculados: \", angles) \n",
    "    q = [angles[0], angles[1][0], angles[2][0]]\n",
    "    \n",
    "    return q"
   ]
  },
  {
   "cell_type": "code",
   "execution_count": 58,
   "metadata": {},
   "outputs": [
    {
     "name": "stdout",
     "output_type": "stream",
     "text": [
      "target: {'x': 0.09999997913837433, 'y': 0.07500001043081284, 'z': 0.04999999701976776} \n",
      "\n",
      "p_2prima [{'x': 0, 'y': 0, 'z': 0.1}, {'x': 0.06806798577031511, 'y': 0.051051007077850534, 'z': 0.15254087922284357}, {'x': 0.0999896399313546, 'y': 0.07499225602285188, 'z': 0.05003319856145866}] home points [{'x': 0, 'y': 0, 'z': 0.1}, {'x': 0, 'y': 0, 'z': 0.2}, {'x': 0, 'y': 0, 'z': 0.3}, {'x': 0, 'y': 0, 'z': 0.4}]\n",
      "q1:  0.6435012756863037\n",
      "Cross product:  [ 0.51051007 -0.68067986  0.        ] Signo del angulo:  [ 1. -1.  0.] \n",
      "\n",
      "Dot product:  0.5254087922284356\n",
      "Cross product:  [ 5.90092236e-01 -7.86789375e-01 -8.32667268e-17] Signo del angulo:  [ 1. -1. -1.] \n",
      "\n",
      "Dot product:  -0.18097964531829436\n",
      "Angulos calculados:  [0.6435012756863037, array([ 1.01760083, -1.01760083,  0.        ]), array([ 1.75277878, -1.75277878, -1.75277878])]\n"
     ]
    }
   ],
   "source": [
    "#Calculo de los angulos entre los eslabones: \n",
    "#condiciones iniciales: \n",
    "p0 = {\n",
    "  \"x\": 0, \n",
    "  \"y\": 0,\n",
    "  \"z\": 0.1\n",
    "}\n",
    "p1 = {\n",
    "  \"x\": 0, \n",
    "  \"y\": 0,\n",
    "  \"z\": 0.2\n",
    "}\n",
    "p2 = {\n",
    "  \"x\": 0, \n",
    "  \"y\": 0,\n",
    "  \"z\": 0.3\n",
    "}\n",
    "p3 = {\n",
    "  \"x\": 0, \n",
    "  \"y\": 0,\n",
    "  \"z\": 0.4\n",
    "}\n",
    "home_points = [p0, p1, p2, p3]\n",
    "#q = angulos_fabrik(p_2prima)\n",
    "q = ccd_ik(home_points, p_2prima)\n",
    "\n",
    "#Movimiento de los motores sim:  \n",
    "ret = sim.simxSetJointTargetPosition(clientID, joint1_handle, q[0], sim.simx_opmode_blocking)\n",
    "ret = sim.simxSetJointTargetPosition(clientID, joint2_handle, q[1], sim.simx_opmode_blocking)\n",
    "ret = sim.simxSetJointTargetPosition(clientID, joint3_handle, q[2], sim.simx_opmode_blocking)"
   ]
  },
  {
   "cell_type": "code",
   "execution_count": 59,
   "metadata": {},
   "outputs": [
    {
     "name": "stdout",
     "output_type": "stream",
     "text": [
      "Posicion del extremo final:  (0, [0.1080806627869606, 0.08100736886262894, 0.029400281608104706])\n",
      "Posicion dummy 2:  (0, [0.08409565687179565, 0.06303112208843231, 0.15160822868347168])\n"
     ]
    }
   ],
   "source": [
    "retrunCode, pos_final_handle = sim.simxGetObjectHandle(clientID, \"pos_final\", sim.simx_opmode_blocking)\n",
    "pos_final = sim.simxGetObjectPosition(clientID, pos_final_handle, -1, sim.simx_opmode_blocking)\n",
    "print(\"Posicion del extremo final: \", pos_final)\n",
    "retrunCode, pos_final_handle = sim.simxGetObjectHandle(clientID, \"pos_dummy2\", sim.simx_opmode_blocking)\n",
    "eslabon1_pos = sim.simxGetObjectPosition(clientID, pos_final_handle, -1, sim.simx_opmode_blocking)\n",
    "print(\"Posicion dummy 2: \", eslabon1_pos)"
   ]
  }
 ],
 "metadata": {
  "kernelspec": {
   "display_name": "Python 3.10.4 64-bit",
   "language": "python",
   "name": "python3"
  },
  "language_info": {
   "codemirror_mode": {
    "name": "ipython",
    "version": 3
   },
   "file_extension": ".py",
   "mimetype": "text/x-python",
   "name": "python",
   "nbconvert_exporter": "python",
   "pygments_lexer": "ipython3",
   "version": "3.10.4"
  },
  "orig_nbformat": 4,
  "vscode": {
   "interpreter": {
    "hash": "4d2bd6a1f6d8103129cee876225a379eb0f540fa126fa830572045118a28eb49"
   }
  }
 },
 "nbformat": 4,
 "nbformat_minor": 2
}
